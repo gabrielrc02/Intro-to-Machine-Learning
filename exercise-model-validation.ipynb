{
 "cells": [
  {
   "cell_type": "markdown",
   "id": "849c6927",
   "metadata": {
    "papermill": {
     "duration": 0.006176,
     "end_time": "2023-05-31T15:04:14.968896",
     "exception": false,
     "start_time": "2023-05-31T15:04:14.962720",
     "status": "completed"
    },
    "tags": []
   },
   "source": [
    "**This notebook is an exercise in the [Introduction to Machine Learning](https://www.kaggle.com/learn/intro-to-machine-learning) course.  You can reference the tutorial at [this link](https://www.kaggle.com/dansbecker/model-validation).**\n",
    "\n",
    "---\n"
   ]
  },
  {
   "cell_type": "markdown",
   "id": "08ae8bc6",
   "metadata": {
    "papermill": {
     "duration": 0.005523,
     "end_time": "2023-05-31T15:04:14.980264",
     "exception": false,
     "start_time": "2023-05-31T15:04:14.974741",
     "status": "completed"
    },
    "tags": []
   },
   "source": [
    "## Recap\n",
    "You've built a model. In this exercise you will test how good your model is.\n",
    "\n",
    "Run the cell below to set up your coding environment where the previous exercise left off."
   ]
  },
  {
   "cell_type": "code",
   "execution_count": 1,
   "id": "f6928d60",
   "metadata": {
    "execution": {
     "iopub.execute_input": "2023-05-31T15:04:14.993512Z",
     "iopub.status.busy": "2023-05-31T15:04:14.993096Z",
     "iopub.status.idle": "2023-05-31T15:04:16.999305Z",
     "shell.execute_reply": "2023-05-31T15:04:16.998162Z"
    },
    "papermill": {
     "duration": 2.016084,
     "end_time": "2023-05-31T15:04:17.002014",
     "exception": false,
     "start_time": "2023-05-31T15:04:14.985930",
     "status": "completed"
    },
    "tags": []
   },
   "outputs": [
    {
     "name": "stdout",
     "output_type": "stream",
     "text": [
      "First in-sample predictions: [208500. 181500. 223500. 140000. 250000.]\n",
      "Actual target values for those homes: [208500, 181500, 223500, 140000, 250000]\n",
      "Setup Complete\n"
     ]
    }
   ],
   "source": [
    "# Code you have previously used to load data\n",
    "import pandas as pd\n",
    "from sklearn.tree import DecisionTreeRegressor\n",
    "\n",
    "# Path of the file to read\n",
    "iowa_file_path = '../input/home-data-for-ml-course/train.csv'\n",
    "\n",
    "home_data = pd.read_csv(iowa_file_path)\n",
    "y = home_data.SalePrice\n",
    "feature_columns = ['LotArea', 'YearBuilt', '1stFlrSF', '2ndFlrSF', 'FullBath', 'BedroomAbvGr', 'TotRmsAbvGrd']\n",
    "X = home_data[feature_columns]\n",
    "\n",
    "# Specify Model\n",
    "iowa_model = DecisionTreeRegressor()\n",
    "# Fit Model\n",
    "iowa_model.fit(X, y)\n",
    "\n",
    "print(\"First in-sample predictions:\", iowa_model.predict(X.head()))\n",
    "print(\"Actual target values for those homes:\", y.head().tolist())\n",
    "\n",
    "# Set up code checking\n",
    "from learntools.core import binder\n",
    "binder.bind(globals())\n",
    "from learntools.machine_learning.ex4 import *\n",
    "print(\"Setup Complete\")"
   ]
  },
  {
   "cell_type": "markdown",
   "id": "e4b32b0e",
   "metadata": {
    "papermill": {
     "duration": 0.005614,
     "end_time": "2023-05-31T15:04:17.013956",
     "exception": false,
     "start_time": "2023-05-31T15:04:17.008342",
     "status": "completed"
    },
    "tags": []
   },
   "source": [
    "# Exercises\n",
    "\n",
    "## Step 1: Split Your Data\n",
    "Use the `train_test_split` function to split up your data.\n",
    "\n",
    "Give it the argument `random_state=1` so the `check` functions know what to expect when verifying your code.\n",
    "\n",
    "Recall, your features are loaded in the DataFrame **X** and your target is loaded in **y**.\n"
   ]
  },
  {
   "cell_type": "code",
   "execution_count": 2,
   "id": "5ef4c68a",
   "metadata": {
    "execution": {
     "iopub.execute_input": "2023-05-31T15:04:17.028909Z",
     "iopub.status.busy": "2023-05-31T15:04:17.027846Z",
     "iopub.status.idle": "2023-05-31T15:04:17.043769Z",
     "shell.execute_reply": "2023-05-31T15:04:17.042852Z"
    },
    "papermill": {
     "duration": 0.025837,
     "end_time": "2023-05-31T15:04:17.045821",
     "exception": false,
     "start_time": "2023-05-31T15:04:17.019984",
     "status": "completed"
    },
    "tags": []
   },
   "outputs": [
    {
     "data": {
      "application/javascript": [
       "parent.postMessage({\"jupyterEvent\": \"custom.exercise_interaction\", \"data\": {\"outcomeType\": 1, \"valueTowardsCompletion\": 0.25, \"interactionType\": 1, \"questionType\": 2, \"questionId\": \"1_SplitData\", \"learnToolsVersion\": \"0.3.4\", \"failureMessage\": \"\", \"exceptionClass\": \"\", \"trace\": \"\"}}, \"*\")"
      ],
      "text/plain": [
       "<IPython.core.display.Javascript object>"
      ]
     },
     "metadata": {},
     "output_type": "display_data"
    },
    {
     "data": {
      "text/markdown": [
       "<span style=\"color:#33cc33\">Correct</span>"
      ],
      "text/plain": [
       "Correct"
      ]
     },
     "metadata": {},
     "output_type": "display_data"
    }
   ],
   "source": [
    "# Import the train_test_split function and uncomment\n",
    "from sklearn.model_selection import train_test_split\n",
    "\n",
    "# fill in and uncomment\n",
    "train_X, val_X, train_y, val_y = train_test_split(X,y,random_state=1)\n",
    "\n",
    "# Check your answer\n",
    "step_1.check()"
   ]
  },
  {
   "cell_type": "code",
   "execution_count": 3,
   "id": "26816604",
   "metadata": {
    "execution": {
     "iopub.execute_input": "2023-05-31T15:04:17.060495Z",
     "iopub.status.busy": "2023-05-31T15:04:17.059725Z",
     "iopub.status.idle": "2023-05-31T15:04:17.064480Z",
     "shell.execute_reply": "2023-05-31T15:04:17.063230Z"
    },
    "papermill": {
     "duration": 0.015089,
     "end_time": "2023-05-31T15:04:17.067039",
     "exception": false,
     "start_time": "2023-05-31T15:04:17.051950",
     "status": "completed"
    },
    "tags": []
   },
   "outputs": [],
   "source": [
    "# The lines below will show you a hint or the solution.\n",
    "# step_1.hint() \n",
    "# step_1.solution()\n"
   ]
  },
  {
   "cell_type": "markdown",
   "id": "84d78d37",
   "metadata": {
    "papermill": {
     "duration": 0.005865,
     "end_time": "2023-05-31T15:04:17.081101",
     "exception": false,
     "start_time": "2023-05-31T15:04:17.075236",
     "status": "completed"
    },
    "tags": []
   },
   "source": [
    "## Step 2: Specify and Fit the Model\n",
    "\n",
    "Create a `DecisionTreeRegressor` model and fit it to the relevant data.\n",
    "Set `random_state` to 1 again when creating the model."
   ]
  },
  {
   "cell_type": "code",
   "execution_count": 4,
   "id": "731f3076",
   "metadata": {
    "execution": {
     "iopub.execute_input": "2023-05-31T15:04:17.095593Z",
     "iopub.status.busy": "2023-05-31T15:04:17.094751Z",
     "iopub.status.idle": "2023-05-31T15:04:17.125629Z",
     "shell.execute_reply": "2023-05-31T15:04:17.124456Z"
    },
    "papermill": {
     "duration": 0.040784,
     "end_time": "2023-05-31T15:04:17.128044",
     "exception": false,
     "start_time": "2023-05-31T15:04:17.087260",
     "status": "completed"
    },
    "tags": []
   },
   "outputs": [
    {
     "name": "stdout",
     "output_type": "stream",
     "text": [
      "[186500. 184000. 130000.  92000. 164500. 220000. 335000. 144152. 215000.\n",
      " 262000.]\n",
      "[186500. 184000. 130000.  92000. 164500. 220000. 335000. 144152. 215000.\n",
      " 262000.]\n"
     ]
    },
    {
     "data": {
      "application/javascript": [
       "parent.postMessage({\"jupyterEvent\": \"custom.exercise_interaction\", \"data\": {\"outcomeType\": 1, \"valueTowardsCompletion\": 0.25, \"interactionType\": 1, \"questionType\": 2, \"questionId\": \"2_FitModelWithTrain\", \"learnToolsVersion\": \"0.3.4\", \"failureMessage\": \"\", \"exceptionClass\": \"\", \"trace\": \"\"}}, \"*\")"
      ],
      "text/plain": [
       "<IPython.core.display.Javascript object>"
      ]
     },
     "metadata": {},
     "output_type": "display_data"
    },
    {
     "data": {
      "text/markdown": [
       "<span style=\"color:#33cc33\">Correct</span>"
      ],
      "text/plain": [
       "Correct"
      ]
     },
     "metadata": {},
     "output_type": "display_data"
    }
   ],
   "source": [
    "# You imported DecisionTreeRegressor in your last exercise\n",
    "# and that code has been copied to the setup code above. So, no need to\n",
    "# import it again\n",
    "\n",
    "# Specify the model\n",
    "iowa_model = DecisionTreeRegressor(random_state=1)\n",
    "\n",
    "# Fit iowa_model with the training data.\n",
    "iowa_model.fit(train_X, train_y)\n",
    "\n",
    "# Check your answer\n",
    "step_2.check()"
   ]
  },
  {
   "cell_type": "code",
   "execution_count": 5,
   "id": "5f8f1902",
   "metadata": {
    "execution": {
     "iopub.execute_input": "2023-05-31T15:04:17.145656Z",
     "iopub.status.busy": "2023-05-31T15:04:17.144620Z",
     "iopub.status.idle": "2023-05-31T15:04:17.150008Z",
     "shell.execute_reply": "2023-05-31T15:04:17.149143Z"
    },
    "papermill": {
     "duration": 0.017373,
     "end_time": "2023-05-31T15:04:17.152423",
     "exception": false,
     "start_time": "2023-05-31T15:04:17.135050",
     "status": "completed"
    },
    "tags": []
   },
   "outputs": [],
   "source": [
    "# step_2.hint()\n",
    "# step_2.solution()"
   ]
  },
  {
   "cell_type": "markdown",
   "id": "24eadd1f",
   "metadata": {
    "papermill": {
     "duration": 0.006468,
     "end_time": "2023-05-31T15:04:17.167781",
     "exception": false,
     "start_time": "2023-05-31T15:04:17.161313",
     "status": "completed"
    },
    "tags": []
   },
   "source": [
    "## Step 3: Make Predictions with Validation data\n"
   ]
  },
  {
   "cell_type": "code",
   "execution_count": 6,
   "id": "a6407189",
   "metadata": {
    "execution": {
     "iopub.execute_input": "2023-05-31T15:04:17.183686Z",
     "iopub.status.busy": "2023-05-31T15:04:17.182622Z",
     "iopub.status.idle": "2023-05-31T15:04:17.199466Z",
     "shell.execute_reply": "2023-05-31T15:04:17.197997Z"
    },
    "papermill": {
     "duration": 0.028172,
     "end_time": "2023-05-31T15:04:17.202746",
     "exception": false,
     "start_time": "2023-05-31T15:04:17.174574",
     "status": "completed"
    },
    "tags": []
   },
   "outputs": [
    {
     "data": {
      "application/javascript": [
       "parent.postMessage({\"jupyterEvent\": \"custom.exercise_interaction\", \"data\": {\"outcomeType\": 1, \"valueTowardsCompletion\": 0.25, \"interactionType\": 1, \"questionType\": 2, \"questionId\": \"3_ValPreds\", \"learnToolsVersion\": \"0.3.4\", \"failureMessage\": \"\", \"exceptionClass\": \"\", \"trace\": \"\"}}, \"*\")"
      ],
      "text/plain": [
       "<IPython.core.display.Javascript object>"
      ]
     },
     "metadata": {},
     "output_type": "display_data"
    },
    {
     "data": {
      "text/markdown": [
       "<span style=\"color:#33cc33\">Correct</span>"
      ],
      "text/plain": [
       "Correct"
      ]
     },
     "metadata": {},
     "output_type": "display_data"
    }
   ],
   "source": [
    "# Predict with all validation observations\n",
    "val_predictions = iowa_model.predict(val_X)\n",
    "\n",
    "# Check your answer\n",
    "step_3.check()"
   ]
  },
  {
   "cell_type": "code",
   "execution_count": 7,
   "id": "7b5b8b69",
   "metadata": {
    "execution": {
     "iopub.execute_input": "2023-05-31T15:04:17.224101Z",
     "iopub.status.busy": "2023-05-31T15:04:17.223579Z",
     "iopub.status.idle": "2023-05-31T15:04:17.229695Z",
     "shell.execute_reply": "2023-05-31T15:04:17.228370Z"
    },
    "papermill": {
     "duration": 0.020692,
     "end_time": "2023-05-31T15:04:17.232360",
     "exception": false,
     "start_time": "2023-05-31T15:04:17.211668",
     "status": "completed"
    },
    "tags": []
   },
   "outputs": [],
   "source": [
    "# step_3.hint()\n",
    "# step_3.solution()"
   ]
  },
  {
   "cell_type": "markdown",
   "id": "f4163ef0",
   "metadata": {
    "papermill": {
     "duration": 0.006828,
     "end_time": "2023-05-31T15:04:17.246420",
     "exception": false,
     "start_time": "2023-05-31T15:04:17.239592",
     "status": "completed"
    },
    "tags": []
   },
   "source": [
    "Inspect your predictions and actual values from validation data."
   ]
  },
  {
   "cell_type": "code",
   "execution_count": 8,
   "id": "0802fb29",
   "metadata": {
    "execution": {
     "iopub.execute_input": "2023-05-31T15:04:17.262834Z",
     "iopub.status.busy": "2023-05-31T15:04:17.262328Z",
     "iopub.status.idle": "2023-05-31T15:04:17.274340Z",
     "shell.execute_reply": "2023-05-31T15:04:17.272809Z"
    },
    "papermill": {
     "duration": 0.023206,
     "end_time": "2023-05-31T15:04:17.276716",
     "exception": false,
     "start_time": "2023-05-31T15:04:17.253510",
     "status": "completed"
    },
    "tags": []
   },
   "outputs": [
    {
     "name": "stdout",
     "output_type": "stream",
     "text": [
      "[186500. 184000. 130000.  92000. 164500.]\n",
      "258     231500\n",
      "267     179500\n",
      "288     122000\n",
      "649      84500\n",
      "1233    142000\n",
      "Name: SalePrice, dtype: int64\n"
     ]
    }
   ],
   "source": [
    "# print the top few validation predictions\n",
    "print(iowa_model.predict(val_X.head()))\n",
    "# print the top few actual prices from validation data\n",
    "print(val_y.head())"
   ]
  },
  {
   "cell_type": "markdown",
   "id": "92503d9c",
   "metadata": {
    "papermill": {
     "duration": 0.006844,
     "end_time": "2023-05-31T15:04:17.290893",
     "exception": false,
     "start_time": "2023-05-31T15:04:17.284049",
     "status": "completed"
    },
    "tags": []
   },
   "source": [
    "What do you notice that is different from what you saw with in-sample predictions (which are printed after the top code cell in this page).\n",
    "\n",
    "Do you remember why validation predictions differ from in-sample (or training) predictions? This is an important idea from the last lesson.\n",
    "\n",
    "## Step 4: Calculate the Mean Absolute Error in Validation Data\n"
   ]
  },
  {
   "cell_type": "code",
   "execution_count": 9,
   "id": "aae448d9",
   "metadata": {
    "execution": {
     "iopub.execute_input": "2023-05-31T15:04:17.308469Z",
     "iopub.status.busy": "2023-05-31T15:04:17.307384Z",
     "iopub.status.idle": "2023-05-31T15:04:17.318993Z",
     "shell.execute_reply": "2023-05-31T15:04:17.317736Z"
    },
    "papermill": {
     "duration": 0.02297,
     "end_time": "2023-05-31T15:04:17.321419",
     "exception": false,
     "start_time": "2023-05-31T15:04:17.298449",
     "status": "completed"
    },
    "tags": []
   },
   "outputs": [
    {
     "name": "stdout",
     "output_type": "stream",
     "text": [
      "29652.931506849316\n"
     ]
    },
    {
     "data": {
      "application/javascript": [
       "parent.postMessage({\"jupyterEvent\": \"custom.exercise_interaction\", \"data\": {\"outcomeType\": 1, \"valueTowardsCompletion\": 0.25, \"interactionType\": 1, \"questionType\": 1, \"questionId\": \"4_MAE\", \"learnToolsVersion\": \"0.3.4\", \"failureMessage\": \"\", \"exceptionClass\": \"\", \"trace\": \"\"}}, \"*\")"
      ],
      "text/plain": [
       "<IPython.core.display.Javascript object>"
      ]
     },
     "metadata": {},
     "output_type": "display_data"
    },
    {
     "data": {
      "text/markdown": [
       "<span style=\"color:#33cc33\">Correct</span>"
      ],
      "text/plain": [
       "Correct"
      ]
     },
     "metadata": {},
     "output_type": "display_data"
    }
   ],
   "source": [
    "from sklearn.metrics import mean_absolute_error\n",
    "val_mae = mean_absolute_error(val_y, val_predictions)\n",
    "\n",
    "# uncomment following line to see the validation_mae\n",
    "print(val_mae)\n",
    "\n",
    "# Check your answer\n",
    "step_4.check()"
   ]
  },
  {
   "cell_type": "code",
   "execution_count": 10,
   "id": "4e9a5988",
   "metadata": {
    "execution": {
     "iopub.execute_input": "2023-05-31T15:04:17.338402Z",
     "iopub.status.busy": "2023-05-31T15:04:17.337930Z",
     "iopub.status.idle": "2023-05-31T15:04:17.343497Z",
     "shell.execute_reply": "2023-05-31T15:04:17.342193Z"
    },
    "papermill": {
     "duration": 0.016875,
     "end_time": "2023-05-31T15:04:17.345906",
     "exception": false,
     "start_time": "2023-05-31T15:04:17.329031",
     "status": "completed"
    },
    "tags": []
   },
   "outputs": [],
   "source": [
    "# step_4.hint()\n",
    "# step_4.solution()"
   ]
  },
  {
   "cell_type": "markdown",
   "id": "688eb286",
   "metadata": {
    "papermill": {
     "duration": 0.007827,
     "end_time": "2023-05-31T15:04:17.362029",
     "exception": false,
     "start_time": "2023-05-31T15:04:17.354202",
     "status": "completed"
    },
    "tags": []
   },
   "source": [
    "Is that MAE good?  There isn't a general rule for what values are good that applies across applications. But you'll see how to use (and improve) this number in the next step.\n",
    "\n",
    "# Keep Going\n",
    "\n",
    "You are ready for **[Underfitting and Overfitting](https://www.kaggle.com/dansbecker/underfitting-and-overfitting).**\n"
   ]
  },
  {
   "cell_type": "markdown",
   "id": "f4046a5a",
   "metadata": {
    "papermill": {
     "duration": 0.007432,
     "end_time": "2023-05-31T15:04:17.377235",
     "exception": false,
     "start_time": "2023-05-31T15:04:17.369803",
     "status": "completed"
    },
    "tags": []
   },
   "source": [
    "---\n",
    "\n",
    "\n",
    "\n",
    "\n",
    "*Have questions or comments? Visit the [course discussion forum](https://www.kaggle.com/learn/intro-to-machine-learning/discussion) to chat with other learners.*"
   ]
  }
 ],
 "metadata": {
  "kernelspec": {
   "display_name": "Python 3",
   "language": "python",
   "name": "python3"
  },
  "language_info": {
   "codemirror_mode": {
    "name": "ipython",
    "version": 3
   },
   "file_extension": ".py",
   "mimetype": "text/x-python",
   "name": "python",
   "nbconvert_exporter": "python",
   "pygments_lexer": "ipython3",
   "version": "3.10.10"
  },
  "papermill": {
   "default_parameters": {},
   "duration": 16.269082,
   "end_time": "2023-05-31T15:04:18.408291",
   "environment_variables": {},
   "exception": null,
   "input_path": "__notebook__.ipynb",
   "output_path": "__notebook__.ipynb",
   "parameters": {},
   "start_time": "2023-05-31T15:04:02.139209",
   "version": "2.4.0"
  }
 },
 "nbformat": 4,
 "nbformat_minor": 5
}
